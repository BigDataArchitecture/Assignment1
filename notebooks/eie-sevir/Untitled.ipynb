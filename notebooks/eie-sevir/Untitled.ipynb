{
 "cells": [
  {
   "cell_type": "code",
   "execution_count": 1,
   "id": "89cecd12",
   "metadata": {},
   "outputs": [
    {
     "name": "stderr",
     "output_type": "stream",
     "text": [
      "/Users/parthshah/opt/anaconda3/lib/python3.8/site-packages/IPython/core/interactiveshell.py:3165: DtypeWarning: Columns (5) have mixed types.Specify dtype option on import or set low_memory=False.\n",
      "  has_raised = await self.run_ast_nodes(code_ast.body, cell_name,\n"
     ]
    }
   ],
   "source": [
    "import pandas as pd\n",
    "df = pd.read_csv('https://raw.githubusercontent.com/MIT-AI-Accelerator/eie-sevir/master/CATALOG.csv')"
   ]
  },
  {
   "cell_type": "code",
   "execution_count": 2,
   "id": "6e84bd99",
   "metadata": {},
   "outputs": [
    {
     "data": {
      "text/plain": [
       "(76004, 21)"
      ]
     },
     "execution_count": 2,
     "metadata": {},
     "output_type": "execute_result"
    }
   ],
   "source": [
    "df.shape"
   ]
  },
  {
   "cell_type": "code",
   "execution_count": 11,
   "id": "fa253c61",
   "metadata": {},
   "outputs": [],
   "source": [
    "C = 0\n",
    "for i in range(len(df)):\n",
    "    if df['id'][i][0:1] == 'S':\n",
    "        C = C+1"
   ]
  },
  {
   "cell_type": "code",
   "execution_count": 12,
   "id": "611b74ec",
   "metadata": {},
   "outputs": [
    {
     "data": {
      "text/plain": [
       "16644"
      ]
     },
     "execution_count": 12,
     "metadata": {},
     "output_type": "execute_result"
    }
   ],
   "source": [
    "C"
   ]
  },
  {
   "cell_type": "code",
   "execution_count": 17,
   "id": "df5ec346",
   "metadata": {},
   "outputs": [],
   "source": [
    "sample = df[df['id'].str[0:1] == 'S']"
   ]
  },
  {
   "cell_type": "code",
   "execution_count": 15,
   "id": "5e011e80",
   "metadata": {},
   "outputs": [
    {
     "data": {
      "text/plain": [
       "0    R18032505027684\n",
       "Name: id, dtype: object"
      ]
     },
     "execution_count": 15,
     "metadata": {},
     "output_type": "execute_result"
    }
   ],
   "source": [
    "df['id'][0:1]"
   ]
  },
  {
   "cell_type": "code",
   "execution_count": 20,
   "id": "f90a3728",
   "metadata": {},
   "outputs": [
    {
     "data": {
      "text/plain": [
       "vil      3910\n",
       "lght     3300\n",
       "ir069    3158\n",
       "ir107    3155\n",
       "vis      3121\n",
       "Name: img_type, dtype: int64"
      ]
     },
     "execution_count": 20,
     "metadata": {},
     "output_type": "execute_result"
    }
   ],
   "source": [
    "sample['img_type'].value_counts()"
   ]
  },
  {
   "cell_type": "code",
   "execution_count": 25,
   "id": "b25f0c08",
   "metadata": {},
   "outputs": [
    {
     "data": {
      "text/plain": [
       "ir107/2018/SEVIR_IR107_STORMEVENTS_2018_0701_1231.h5    904\n",
       "ir069/2018/SEVIR_IR069_STORMEVENTS_2018_0701_1231.h5    904\n",
       "vil/2019/SEVIR_VIL_STORMEVENTS_2019_0101_0630.h5        851\n",
       "vil/2018/SEVIR_VIL_STORMEVENTS_2018_0701_1231.h5        847\n",
       "ir069/2018/SEVIR_IR069_STORMEVENTS_2018_0101_0630.h5    833\n",
       "ir107/2018/SEVIR_IR107_STORMEVENTS_2018_0101_0630.h5    832\n",
       "vil/2018/SEVIR_VIL_STORMEVENTS_2018_0101_0630.h5        793\n",
       "ir069/2019/SEVIR_IR069_STORMEVENTS_2019_0101_0630.h5    729\n",
       "ir107/2019/SEVIR_IR107_STORMEVENTS_2019_0101_0630.h5    728\n",
       "ir069/2019/SEVIR_IR069_STORMEVENTS_2019_0701_1231.h5    692\n",
       "ir107/2019/SEVIR_IR107_STORMEVENTS_2019_0701_1231.h5    691\n",
       "vil/2017/SEVIR_VIL_STORMEVENTS_2017_0701_1231.h5        685\n",
       "vil/2019/SEVIR_VIL_STORMEVENTS_2019_0701_1231.h5        541\n",
       "lght/2018/SEVIR_LGHT_ALLEVENTS_2018_0601_0701.h5        368\n",
       "vis/2018/SEVIR_VIS_STORMEVENTS_2018_0601_0630.h5        352\n",
       "lght/2018/SEVIR_LGHT_ALLEVENTS_2018_0701_0801.h5        336\n",
       "vis/2018/SEVIR_VIS_STORMEVENTS_2018_0701_0731.h5        324\n",
       "lght/2018/SEVIR_LGHT_ALLEVENTS_2018_0501_0601.h5        312\n",
       "vis/2018/SEVIR_VIS_STORMEVENTS_2018_0501_0531.h5        304\n",
       "lght/2019/SEVIR_LGHT_ALLEVENTS_2019_0801_0901.h5        294\n",
       "vis/2019/SEVIR_VIS_STORMEVENTS_2019_0701_0731.h5        292\n",
       "lght/2019/SEVIR_LGHT_ALLEVENTS_2019_0701_0801.h5        290\n",
       "lght/2018/SEVIR_LGHT_ALLEVENTS_2018_0801_0901.h5        288\n",
       "vis/2018/SEVIR_VIS_STORMEVENTS_2018_0801_0831.h5        275\n",
       "vis/2019/SEVIR_VIS_STORMEVENTS_2019_0801_0831.h5        272\n",
       "lght/2019/SEVIR_LGHT_ALLEVENTS_2019_0501_0601.h5        251\n",
       "lght/2019/SEVIR_LGHT_ALLEVENTS_2019_0601_0701.h5        245\n",
       "vis/2019/SEVIR_VIS_STORMEVENTS_2019_0601_0630.h5        214\n",
       "vis/2019/SEVIR_VIS_STORMEVENTS_2019_0501_0531.h5        209\n",
       "vil/2017/SEVIR_VIL_STORMEVENTS_2017_0101_0630.h5        193\n",
       "lght/2018/SEVIR_LGHT_ALLEVENTS_2018_0901_1001.h5        159\n",
       "vis/2018/SEVIR_VIS_STORMEVENTS_2018_0901_0930.h5        156\n",
       "vis/2019/SEVIR_VIS_STORMEVENTS_2019_0401_0430.h5        153\n",
       "lght/2019/SEVIR_LGHT_ALLEVENTS_2019_0401_0501.h5        153\n",
       "lght/2019/SEVIR_LGHT_ALLEVENTS_2019_0901_1001.h5        120\n",
       "vis/2019/SEVIR_VIS_STORMEVENTS_2019_0901_0930.h5        114\n",
       "lght/2018/SEVIR_LGHT_ALLEVENTS_2018_0401_0501.h5         94\n",
       "vis/2018/SEVIR_VIS_STORMEVENTS_2018_0401_0430.h5         89\n",
       "lght/2019/SEVIR_LGHT_ALLEVENTS_2019_0301_0401.h5         77\n",
       "vis/2019/SEVIR_VIS_STORMEVENTS_2019_0301_0331.h5         77\n",
       "vis/2018/SEVIR_VIS_STORMEVENTS_2018_1001_1031.h5         74\n",
       "lght/2018/SEVIR_LGHT_ALLEVENTS_2018_1001_1101.h5         73\n",
       "lght/2018/SEVIR_LGHT_ALLEVENTS_2018_0301_0401.h5         54\n",
       "lght/2019/SEVIR_LGHT_ALLEVENTS_2019_0201_0301.h5         51\n",
       "vis/2019/SEVIR_VIS_STORMEVENTS_2019_0201_0228.h5         48\n",
       "vis/2018/SEVIR_VIS_STORMEVENTS_2018_0301_0331.h5         47\n",
       "lght/2018/SEVIR_LGHT_ALLEVENTS_2018_1201_0101.h5         42\n",
       "vis/2018/SEVIR_VIS_STORMEVENTS_2018_1201_1231.h5         36\n",
       "lght/2018/SEVIR_LGHT_ALLEVENTS_2018_1101_1201.h5         33\n",
       "lght/2018/SEVIR_LGHT_ALLEVENTS_2018_0201_0301.h5         33\n",
       "vis/2018/SEVIR_VIS_STORMEVENTS_2018_1101_1130.h5         27\n",
       "vis/2018/SEVIR_VIS_STORMEVENTS_2018_0201_0228.h5         27\n",
       "lght/2019/SEVIR_LGHT_ALLEVENTS_2019_0101_0201.h5         27\n",
       "vis/2019/SEVIR_VIS_STORMEVENTS_2019_0101_0131.h5         25\n",
       "vis/2018/SEVIR_VIS_STORMEVENTS_2018_0101_0131.h5          6\n",
       "Name: file_name, dtype: int64"
      ]
     },
     "execution_count": 25,
     "metadata": {},
     "output_type": "execute_result"
    }
   ],
   "source": [
    "sample['file_name'].value_counts()"
   ]
  },
  {
   "cell_type": "code",
   "execution_count": null,
   "id": "6aeb475a",
   "metadata": {},
   "outputs": [],
   "source": []
  }
 ],
 "metadata": {
  "kernelspec": {
   "display_name": "Python 3.8.8 64-bit ('base': conda)",
   "language": "python",
   "name": "python388jvsc74a57bd0862565ed761fef69c13c358536270023be20fe86f4b6648eb3a25208bbc233f0"
  },
  "language_info": {
   "codemirror_mode": {
    "name": "ipython",
    "version": 3
   },
   "file_extension": ".py",
   "mimetype": "text/x-python",
   "name": "python",
   "nbconvert_exporter": "python",
   "pygments_lexer": "ipython3",
   "version": "3.8.8"
  }
 },
 "nbformat": 4,
 "nbformat_minor": 5
}
