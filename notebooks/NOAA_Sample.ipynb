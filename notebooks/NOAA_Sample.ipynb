{
 "cells": [
  {
   "cell_type": "code",
   "execution_count": 1,
   "id": "526efbd4",
   "metadata": {},
   "outputs": [],
   "source": [
    "import pandas as pd\n",
    "import os"
   ]
  },
  {
   "cell_type": "code",
   "execution_count": 2,
   "id": "67488586",
   "metadata": {},
   "outputs": [
    {
     "name": "stdout",
     "output_type": "stream",
     "text": [
      "/Users/parthshah/Documents/Northeastern/Spring2022/BigDataAnalytics/Assignment_1/Assignment_1/assignment_1/data/raw/NOAA/\n",
      "217\n"
     ]
    },
    {
     "name": "stderr",
     "output_type": "stream",
     "text": [
      "/Users/parthshah/opt/anaconda3/lib/python3.8/site-packages/IPython/core/interactiveshell.py:3165: DtypeWarning: Columns (26,28) have mixed types.Specify dtype option on import or set low_memory=False.\n",
      "  has_raised = await self.run_ast_nodes(code_ast.body, cell_name,\n",
      "/Users/parthshah/opt/anaconda3/lib/python3.8/site-packages/IPython/core/interactiveshell.py:3165: DtypeWarning: Columns (28) have mixed types.Specify dtype option on import or set low_memory=False.\n",
      "  has_raised = await self.run_ast_nodes(code_ast.body, cell_name,\n",
      "/Users/parthshah/opt/anaconda3/lib/python3.8/site-packages/IPython/core/interactiveshell.py:3165: DtypeWarning: Columns (29,34,35,37) have mixed types.Specify dtype option on import or set low_memory=False.\n",
      "  has_raised = await self.run_ast_nodes(code_ast.body, cell_name,\n"
     ]
    }
   ],
   "source": [
    "import pandas as pd\n",
    "import os\n",
    "import glob\n",
    "  \n",
    "  \n",
    "# use glob to get all the csv files \n",
    "# in the folder\n",
    "path = '/Users/parthshah/Documents/Northeastern/Spring2022/BigDataAnalytics/Assignment_1/Assignment_1/assignment_1/data/raw/NOAA/'\n",
    "print(path)\n",
    "csv_files = glob.glob(os.path.join(path, \"*.csv\"))\n",
    "print(len(csv_files))\n",
    "  \n",
    "  \n",
    "# loop over the list of csv files\n",
    "df = pd.read_csv('/Users/parthshah/Documents/Northeastern/Spring2022/BigDataAnalytics/Assignment_1/Assignment_1/assignment_1/data/raw/NOAA/StormEvents_details-ftp_v1.0_d1977_c20210803.csv')\n",
    "list1 = []\n",
    "for f in csv_files:\n",
    "    if 'details' in f: \n",
    "        df = pd.read_csv(f)\n",
    "        list1.append(df)\n",
    "NOOA_Data_Merged = pd.concat(list1)        "
   ]
  },
  {
   "cell_type": "code",
   "execution_count": 5,
   "id": "3f665338",
   "metadata": {},
   "outputs": [
    {
     "data": {
      "text/plain": [
       "['BEGIN_YEARMONTH',\n",
       " 'BEGIN_DAY',\n",
       " 'BEGIN_TIME',\n",
       " 'END_YEARMONTH',\n",
       " 'END_DAY',\n",
       " 'END_TIME',\n",
       " 'EPISODE_ID',\n",
       " 'EVENT_ID',\n",
       " 'STATE',\n",
       " 'STATE_FIPS',\n",
       " 'YEAR',\n",
       " 'MONTH_NAME',\n",
       " 'EVENT_TYPE',\n",
       " 'CZ_TYPE',\n",
       " 'CZ_FIPS',\n",
       " 'CZ_NAME',\n",
       " 'WFO',\n",
       " 'BEGIN_DATE_TIME',\n",
       " 'CZ_TIMEZONE',\n",
       " 'END_DATE_TIME',\n",
       " 'INJURIES_DIRECT',\n",
       " 'INJURIES_INDIRECT',\n",
       " 'DEATHS_DIRECT',\n",
       " 'DEATHS_INDIRECT',\n",
       " 'DAMAGE_PROPERTY',\n",
       " 'DAMAGE_CROPS',\n",
       " 'SOURCE',\n",
       " 'MAGNITUDE',\n",
       " 'MAGNITUDE_TYPE',\n",
       " 'FLOOD_CAUSE',\n",
       " 'CATEGORY',\n",
       " 'TOR_F_SCALE',\n",
       " 'TOR_LENGTH',\n",
       " 'TOR_WIDTH',\n",
       " 'TOR_OTHER_WFO',\n",
       " 'TOR_OTHER_CZ_STATE',\n",
       " 'TOR_OTHER_CZ_FIPS',\n",
       " 'TOR_OTHER_CZ_NAME',\n",
       " 'BEGIN_RANGE',\n",
       " 'BEGIN_AZIMUTH',\n",
       " 'BEGIN_LOCATION',\n",
       " 'END_RANGE',\n",
       " 'END_AZIMUTH',\n",
       " 'END_LOCATION',\n",
       " 'BEGIN_LAT',\n",
       " 'BEGIN_LON',\n",
       " 'END_LAT',\n",
       " 'END_LON',\n",
       " 'EPISODE_NARRATIVE',\n",
       " 'EVENT_NARRATIVE',\n",
       " 'DATA_SOURCE']"
      ]
     },
     "execution_count": 5,
     "metadata": {},
     "output_type": "execute_result"
    }
   ],
   "source": [
    "NOOA_Data_Merged[NOOA_Data_Merged[\"EVENT_ID\"] == 835047].columns.to_list()"
   ]
  },
  {
   "cell_type": "code",
   "execution_count": 5,
   "id": "152a8dc9",
   "metadata": {},
   "outputs": [],
   "source": [
    "result.to_csv('NOAA_All_Data.csv',index = False)"
   ]
  },
  {
   "cell_type": "code",
   "execution_count": 10,
   "id": "1ae77c27",
   "metadata": {},
   "outputs": [
    {
     "data": {
      "text/html": [
       "<div>\n",
       "<style scoped>\n",
       "    .dataframe tbody tr th:only-of-type {\n",
       "        vertical-align: middle;\n",
       "    }\n",
       "\n",
       "    .dataframe tbody tr th {\n",
       "        vertical-align: top;\n",
       "    }\n",
       "\n",
       "    .dataframe thead th {\n",
       "        text-align: right;\n",
       "    }\n",
       "</style>\n",
       "<table border=\"1\" class=\"dataframe\">\n",
       "  <thead>\n",
       "    <tr style=\"text-align: right;\">\n",
       "      <th></th>\n",
       "      <th>BEGIN_YEARMONTH</th>\n",
       "      <th>BEGIN_DAY</th>\n",
       "      <th>BEGIN_TIME</th>\n",
       "      <th>END_YEARMONTH</th>\n",
       "      <th>END_DAY</th>\n",
       "      <th>END_TIME</th>\n",
       "      <th>EPISODE_ID</th>\n",
       "      <th>EVENT_ID</th>\n",
       "      <th>STATE</th>\n",
       "      <th>STATE_FIPS</th>\n",
       "      <th>...</th>\n",
       "      <th>END_RANGE</th>\n",
       "      <th>END_AZIMUTH</th>\n",
       "      <th>END_LOCATION</th>\n",
       "      <th>BEGIN_LAT</th>\n",
       "      <th>BEGIN_LON</th>\n",
       "      <th>END_LAT</th>\n",
       "      <th>END_LON</th>\n",
       "      <th>EPISODE_NARRATIVE</th>\n",
       "      <th>EVENT_NARRATIVE</th>\n",
       "      <th>DATA_SOURCE</th>\n",
       "    </tr>\n",
       "  </thead>\n",
       "  <tbody>\n",
       "    <tr>\n",
       "      <th>7936</th>\n",
       "      <td>201801</td>\n",
       "      <td>21</td>\n",
       "      <td>2126</td>\n",
       "      <td>201801</td>\n",
       "      <td>21</td>\n",
       "      <td>2135</td>\n",
       "      <td>121701.0</td>\n",
       "      <td>728503</td>\n",
       "      <td>TEXAS</td>\n",
       "      <td>48.0</td>\n",
       "      <td>...</td>\n",
       "      <td>2.0</td>\n",
       "      <td>S</td>\n",
       "      <td>BETHLEHEM</td>\n",
       "      <td>33.4474</td>\n",
       "      <td>-94.6484</td>\n",
       "      <td>33.5266</td>\n",
       "      <td>-94.571</td>\n",
       "      <td>A deep upper level trough moved out of the Int...</td>\n",
       "      <td>An EF-2 tornado with maximum estimated winds a...</td>\n",
       "      <td>CSV</td>\n",
       "    </tr>\n",
       "  </tbody>\n",
       "</table>\n",
       "<p>1 rows × 51 columns</p>\n",
       "</div>"
      ],
      "text/plain": [
       "      BEGIN_YEARMONTH  BEGIN_DAY  BEGIN_TIME  END_YEARMONTH  END_DAY  \\\n",
       "7936           201801         21        2126         201801       21   \n",
       "\n",
       "      END_TIME  EPISODE_ID  EVENT_ID  STATE  STATE_FIPS  ...  END_RANGE  \\\n",
       "7936      2135    121701.0    728503  TEXAS        48.0  ...        2.0   \n",
       "\n",
       "     END_AZIMUTH END_LOCATION BEGIN_LAT  BEGIN_LON  END_LAT END_LON  \\\n",
       "7936           S    BETHLEHEM   33.4474   -94.6484  33.5266 -94.571   \n",
       "\n",
       "                                      EPISODE_NARRATIVE  \\\n",
       "7936  A deep upper level trough moved out of the Int...   \n",
       "\n",
       "                                        EVENT_NARRATIVE DATA_SOURCE  \n",
       "7936  An EF-2 tornado with maximum estimated winds a...         CSV  \n",
       "\n",
       "[1 rows x 51 columns]"
      ]
     },
     "execution_count": 10,
     "metadata": {},
     "output_type": "execute_result"
    }
   ],
   "source": [
    "NOOA_Data_Merged[NOOA_Data_Merged['EVENT_ID'] == 728503]"
   ]
  },
  {
   "cell_type": "code",
   "execution_count": 3,
   "id": "c12a4eef",
   "metadata": {},
   "outputs": [
    {
     "name": "stderr",
     "output_type": "stream",
     "text": [
      "/Users/parthshah/opt/anaconda3/lib/python3.8/site-packages/IPython/core/interactiveshell.py:3165: DtypeWarning: Columns (5) have mixed types.Specify dtype option on import or set low_memory=False.\n",
      "  has_raised = await self.run_ast_nodes(code_ast.body, cell_name,\n"
     ]
    }
   ],
   "source": [
    "catlog = pd.read_csv('https://raw.githubusercontent.com/MIT-AI-Accelerator/eie-sevir/master/CATALOG.csv')"
   ]
  },
  {
   "cell_type": "code",
   "execution_count": 7,
   "id": "05695810",
   "metadata": {},
   "outputs": [
    {
     "data": {
      "text/plain": [
       "'2019-11-30 18:46:15'"
      ]
     },
     "execution_count": 7,
     "metadata": {},
     "output_type": "execute_result"
    }
   ],
   "source": [
    "catlog['time_utc'].max() "
   ]
  },
  {
   "cell_type": "code",
   "execution_count": 8,
   "id": "64c093eb",
   "metadata": {},
   "outputs": [
    {
     "data": {
      "text/plain": [
       "'2017-06-13 03:36:00'"
      ]
     },
     "execution_count": 8,
     "metadata": {},
     "output_type": "execute_result"
    }
   ],
   "source": [
    "catlog['time_utc'].min() "
   ]
  },
  {
   "cell_type": "code",
   "execution_count": 9,
   "id": "2a47152e",
   "metadata": {},
   "outputs": [
    {
     "data": {
      "text/plain": [
       "['BEGIN_YEARMONTH',\n",
       " 'BEGIN_DAY',\n",
       " 'BEGIN_TIME',\n",
       " 'END_YEARMONTH',\n",
       " 'END_DAY',\n",
       " 'END_TIME',\n",
       " 'EPISODE_ID',\n",
       " 'EVENT_ID',\n",
       " 'STATE',\n",
       " 'STATE_FIPS',\n",
       " 'YEAR',\n",
       " 'MONTH_NAME',\n",
       " 'EVENT_TYPE',\n",
       " 'CZ_TYPE',\n",
       " 'CZ_FIPS',\n",
       " 'CZ_NAME',\n",
       " 'WFO',\n",
       " 'BEGIN_DATE_TIME',\n",
       " 'CZ_TIMEZONE',\n",
       " 'END_DATE_TIME',\n",
       " 'INJURIES_DIRECT',\n",
       " 'INJURIES_INDIRECT',\n",
       " 'DEATHS_DIRECT',\n",
       " 'DEATHS_INDIRECT',\n",
       " 'DAMAGE_PROPERTY',\n",
       " 'DAMAGE_CROPS',\n",
       " 'SOURCE',\n",
       " 'MAGNITUDE',\n",
       " 'MAGNITUDE_TYPE',\n",
       " 'FLOOD_CAUSE',\n",
       " 'CATEGORY',\n",
       " 'TOR_F_SCALE',\n",
       " 'TOR_LENGTH',\n",
       " 'TOR_WIDTH',\n",
       " 'TOR_OTHER_WFO',\n",
       " 'TOR_OTHER_CZ_STATE',\n",
       " 'TOR_OTHER_CZ_FIPS',\n",
       " 'TOR_OTHER_CZ_NAME',\n",
       " 'BEGIN_RANGE',\n",
       " 'BEGIN_AZIMUTH',\n",
       " 'BEGIN_LOCATION',\n",
       " 'END_RANGE',\n",
       " 'END_AZIMUTH',\n",
       " 'END_LOCATION',\n",
       " 'BEGIN_LAT',\n",
       " 'BEGIN_LON',\n",
       " 'END_LAT',\n",
       " 'END_LON',\n",
       " 'EPISODE_NARRATIVE',\n",
       " 'EVENT_NARRATIVE',\n",
       " 'DATA_SOURCE']"
      ]
     },
     "execution_count": 9,
     "metadata": {},
     "output_type": "execute_result"
    }
   ],
   "source": [
    "NOOA_Data_Merged.columns.to_list()"
   ]
  },
  {
   "cell_type": "code",
   "execution_count": 19,
   "id": "51930e80",
   "metadata": {},
   "outputs": [],
   "source": [
    "catlog['time_utc'] = pd.to_datetime(catlog['time_utc'])"
   ]
  },
  {
   "cell_type": "code",
   "execution_count": 11,
   "id": "9809c393",
   "metadata": {},
   "outputs": [],
   "source": [
    "catlog_storm_events = catlog[catlog['event_id'].isna() == False]\n",
    "catlog_storm_events.reset_index(inplace = True)"
   ]
  },
  {
   "cell_type": "code",
   "execution_count": 12,
   "id": "699ba3aa",
   "metadata": {},
   "outputs": [
    {
     "data": {
      "text/plain": [
       "0        728503.0\n",
       "1        764931.0\n",
       "2        745801.0\n",
       "3        760792.0\n",
       "4        766182.0\n",
       "           ...   \n",
       "16639    858117.0\n",
       "16640    858186.0\n",
       "16641    858827.0\n",
       "16642    858833.0\n",
       "16643    858968.0\n",
       "Name: event_id, Length: 16644, dtype: float64"
      ]
     },
     "execution_count": 12,
     "metadata": {},
     "output_type": "execute_result"
    }
   ],
   "source": [
    "catlog_storm_events['event_id'] "
   ]
  },
  {
   "cell_type": "code",
   "execution_count": 40,
   "id": "69da62e2",
   "metadata": {},
   "outputs": [],
   "source": [
    "DEF = pd.merge(catlog_storm_events,NOOA_Data_Merged,left_on = \"event_id\", right_on = \"EVENT_ID\")"
   ]
  },
  {
   "cell_type": "code",
   "execution_count": 14,
   "id": "d283011f",
   "metadata": {},
   "outputs": [],
   "source": [
    "DEF = pd.merge(NOOA_Data_Merged,catlog_storm_events,left_on = \"EVENT_ID\", right_on = \"event_id\",how = \"left\")"
   ]
  },
  {
   "cell_type": "code",
   "execution_count": 32,
   "id": "a51336d8",
   "metadata": {},
   "outputs": [],
   "source": [
    "NOOA_Data_Merged = NOOA_Data_Merged[NOOA_Data_Merged[\"END_YEARMONTH\"]> 201706]"
   ]
  },
  {
   "cell_type": "code",
   "execution_count": 33,
   "id": "df5e66ae",
   "metadata": {},
   "outputs": [],
   "source": [
    "NOOA_Data_Merged = NOOA_Data_Merged[NOOA_Data_Merged[\"END_YEARMONTH\"] < 201912]"
   ]
  },
  {
   "cell_type": "code",
   "execution_count": 34,
   "id": "ba43f9c1",
   "metadata": {},
   "outputs": [],
   "source": [
    "NOOA_Data_Merged = NOOA_Data_Merged.reset_index()"
   ]
  },
  {
   "cell_type": "code",
   "execution_count": 37,
   "id": "6988fa3d",
   "metadata": {},
   "outputs": [],
   "source": [
    "NOOA_Data_Merged.to_csv(\"NOOA_2017_2019.csv\",index = False)"
   ]
  },
  {
   "cell_type": "code",
   "execution_count": 44,
   "id": "cce4d6f5",
   "metadata": {},
   "outputs": [
    {
     "name": "stdout",
     "output_type": "stream",
     "text": [
      "(16644, 22)\n",
      "(16644, 51)\n"
     ]
    }
   ],
   "source": [
    "catlog_list = catlog_storm_events.columns.to_list()\n",
    "NOAA_List = NOOA_Data_Merged.columns.to_list()\n",
    "catlog_data = DEF[catlog_list]\n",
    "NOAA_Data = DEF[NOAA_List]\n",
    "print(catlog_data.shape)\n",
    "print(NOAA_Data.shape)"
   ]
  },
  {
   "cell_type": "code",
   "execution_count": 47,
   "id": "75945a0e",
   "metadata": {},
   "outputs": [],
   "source": [
    "catlog_data.to_csv(\"catlog_data.csv\",index = False)\n",
    "NOAA_Data.to_csv(\"NOAA_Data.csv\",index = False)"
   ]
  },
  {
   "cell_type": "code",
   "execution_count": 59,
   "id": "27f1a337",
   "metadata": {},
   "outputs": [
    {
     "data": {
      "text/html": [
       "<div>\n",
       "<style scoped>\n",
       "    .dataframe tbody tr th:only-of-type {\n",
       "        vertical-align: middle;\n",
       "    }\n",
       "\n",
       "    .dataframe tbody tr th {\n",
       "        vertical-align: top;\n",
       "    }\n",
       "\n",
       "    .dataframe thead th {\n",
       "        text-align: right;\n",
       "    }\n",
       "</style>\n",
       "<table border=\"1\" class=\"dataframe\">\n",
       "  <thead>\n",
       "    <tr style=\"text-align: right;\">\n",
       "      <th></th>\n",
       "      <th>id</th>\n",
       "      <th>file_name</th>\n",
       "      <th>file_index</th>\n",
       "      <th>img_type</th>\n",
       "      <th>time_utc</th>\n",
       "      <th>minute_offsets</th>\n",
       "      <th>episode_id</th>\n",
       "      <th>event_id</th>\n",
       "      <th>event_type</th>\n",
       "      <th>llcrnrlat</th>\n",
       "      <th>...</th>\n",
       "      <th>urcrnrlat</th>\n",
       "      <th>urcrnrlon</th>\n",
       "      <th>proj</th>\n",
       "      <th>size_x</th>\n",
       "      <th>size_y</th>\n",
       "      <th>height_m</th>\n",
       "      <th>width_m</th>\n",
       "      <th>data_min</th>\n",
       "      <th>data_max</th>\n",
       "      <th>pct_missing</th>\n",
       "    </tr>\n",
       "  </thead>\n",
       "  <tbody>\n",
       "    <tr>\n",
       "      <th>19299</th>\n",
       "      <td>S835047</td>\n",
       "      <td>vil/2019/SEVIR_VIL_STORMEVENTS_2019_0101_0630.h5</td>\n",
       "      <td>14</td>\n",
       "      <td>vil</td>\n",
       "      <td>2019-06-26 21:32:00</td>\n",
       "      <td>-122:-117:-112:-107:-102:-97:-92:-87:-82:-77:-...</td>\n",
       "      <td>138836.0</td>\n",
       "      <td>835047.0</td>\n",
       "      <td>Hail</td>\n",
       "      <td>35.015742</td>\n",
       "      <td>...</td>\n",
       "      <td>38.311287</td>\n",
       "      <td>-91.574426</td>\n",
       "      <td>+proj=laea +lat_0=38 +lon_0=-98 +units=m +a=63...</td>\n",
       "      <td>384</td>\n",
       "      <td>384</td>\n",
       "      <td>384000.0</td>\n",
       "      <td>384000.0</td>\n",
       "      <td>0.000000</td>\n",
       "      <td>254.000000</td>\n",
       "      <td>0.290709</td>\n",
       "    </tr>\n",
       "    <tr>\n",
       "      <th>22412</th>\n",
       "      <td>S835047</td>\n",
       "      <td>ir107/2019/SEVIR_IR107_STORMEVENTS_2019_0101_0...</td>\n",
       "      <td>12</td>\n",
       "      <td>ir107</td>\n",
       "      <td>2019-06-26 21:32:00</td>\n",
       "      <td>-124:-119:-114:-109:-104:-99:-94:-89:-84:-79:-...</td>\n",
       "      <td>138836.0</td>\n",
       "      <td>835047.0</td>\n",
       "      <td>Hail</td>\n",
       "      <td>35.015742</td>\n",
       "      <td>...</td>\n",
       "      <td>38.311287</td>\n",
       "      <td>-91.574426</td>\n",
       "      <td>+proj=laea +lat_0=38 +lon_0=-98 +units=m +a=63...</td>\n",
       "      <td>192</td>\n",
       "      <td>192</td>\n",
       "      <td>384000.0</td>\n",
       "      <td>384000.0</td>\n",
       "      <td>-72.195297</td>\n",
       "      <td>30.619873</td>\n",
       "      <td>0.000000</td>\n",
       "    </tr>\n",
       "    <tr>\n",
       "      <th>29236</th>\n",
       "      <td>S835047</td>\n",
       "      <td>ir069/2019/SEVIR_IR069_STORMEVENTS_2019_0101_0...</td>\n",
       "      <td>12</td>\n",
       "      <td>ir069</td>\n",
       "      <td>2019-06-26 21:32:00</td>\n",
       "      <td>-124:-119:-114:-109:-104:-99:-94:-89:-84:-79:-...</td>\n",
       "      <td>138836.0</td>\n",
       "      <td>835047.0</td>\n",
       "      <td>Hail</td>\n",
       "      <td>35.015742</td>\n",
       "      <td>...</td>\n",
       "      <td>38.311287</td>\n",
       "      <td>-91.574426</td>\n",
       "      <td>+proj=laea +lat_0=38 +lon_0=-98 +units=m +a=63...</td>\n",
       "      <td>192</td>\n",
       "      <td>192</td>\n",
       "      <td>384000.0</td>\n",
       "      <td>384000.0</td>\n",
       "      <td>-72.988350</td>\n",
       "      <td>-21.160448</td>\n",
       "      <td>0.000000</td>\n",
       "    </tr>\n",
       "    <tr>\n",
       "      <th>41182</th>\n",
       "      <td>S835047</td>\n",
       "      <td>vis/2019/SEVIR_VIS_STORMEVENTS_2019_0601_0630.h5</td>\n",
       "      <td>34</td>\n",
       "      <td>vis</td>\n",
       "      <td>2019-06-26 21:32:00</td>\n",
       "      <td>-124:-119:-114:-109:-104:-99:-94:-89:-84:-79:-...</td>\n",
       "      <td>138836.0</td>\n",
       "      <td>835047.0</td>\n",
       "      <td>Hail</td>\n",
       "      <td>35.015742</td>\n",
       "      <td>...</td>\n",
       "      <td>38.311287</td>\n",
       "      <td>-91.574426</td>\n",
       "      <td>+proj=laea +lat_0=38 +lon_0=-98 +units=m +a=63...</td>\n",
       "      <td>768</td>\n",
       "      <td>768</td>\n",
       "      <td>384000.0</td>\n",
       "      <td>384000.0</td>\n",
       "      <td>0.017251</td>\n",
       "      <td>1.159615</td>\n",
       "      <td>0.000000</td>\n",
       "    </tr>\n",
       "    <tr>\n",
       "      <th>72402</th>\n",
       "      <td>S835047</td>\n",
       "      <td>lght/2019/SEVIR_LGHT_ALLEVENTS_2019_0601_0701.h5</td>\n",
       "      <td>0</td>\n",
       "      <td>lght</td>\n",
       "      <td>2019-06-26 21:32:00</td>\n",
       "      <td>NaN</td>\n",
       "      <td>138836.0</td>\n",
       "      <td>835047.0</td>\n",
       "      <td>Hail</td>\n",
       "      <td>35.015742</td>\n",
       "      <td>...</td>\n",
       "      <td>38.311287</td>\n",
       "      <td>-91.574426</td>\n",
       "      <td>+proj=laea +lat_0=38 +lon_0=-98 +units=m +a=63...</td>\n",
       "      <td>48</td>\n",
       "      <td>48</td>\n",
       "      <td>384000.0</td>\n",
       "      <td>384000.0</td>\n",
       "      <td>0.000000</td>\n",
       "      <td>328332.000000</td>\n",
       "      <td>0.000000</td>\n",
       "    </tr>\n",
       "  </tbody>\n",
       "</table>\n",
       "<p>5 rows × 21 columns</p>\n",
       "</div>"
      ],
      "text/plain": [
       "            id                                          file_name  file_index  \\\n",
       "19299  S835047   vil/2019/SEVIR_VIL_STORMEVENTS_2019_0101_0630.h5          14   \n",
       "22412  S835047  ir107/2019/SEVIR_IR107_STORMEVENTS_2019_0101_0...          12   \n",
       "29236  S835047  ir069/2019/SEVIR_IR069_STORMEVENTS_2019_0101_0...          12   \n",
       "41182  S835047   vis/2019/SEVIR_VIS_STORMEVENTS_2019_0601_0630.h5          34   \n",
       "72402  S835047   lght/2019/SEVIR_LGHT_ALLEVENTS_2019_0601_0701.h5           0   \n",
       "\n",
       "      img_type            time_utc  \\\n",
       "19299      vil 2019-06-26 21:32:00   \n",
       "22412    ir107 2019-06-26 21:32:00   \n",
       "29236    ir069 2019-06-26 21:32:00   \n",
       "41182      vis 2019-06-26 21:32:00   \n",
       "72402     lght 2019-06-26 21:32:00   \n",
       "\n",
       "                                          minute_offsets  episode_id  \\\n",
       "19299  -122:-117:-112:-107:-102:-97:-92:-87:-82:-77:-...    138836.0   \n",
       "22412  -124:-119:-114:-109:-104:-99:-94:-89:-84:-79:-...    138836.0   \n",
       "29236  -124:-119:-114:-109:-104:-99:-94:-89:-84:-79:-...    138836.0   \n",
       "41182  -124:-119:-114:-109:-104:-99:-94:-89:-84:-79:-...    138836.0   \n",
       "72402                                                NaN    138836.0   \n",
       "\n",
       "       event_id event_type  llcrnrlat  ...  urcrnrlat  urcrnrlon  \\\n",
       "19299  835047.0       Hail  35.015742  ...  38.311287 -91.574426   \n",
       "22412  835047.0       Hail  35.015742  ...  38.311287 -91.574426   \n",
       "29236  835047.0       Hail  35.015742  ...  38.311287 -91.574426   \n",
       "41182  835047.0       Hail  35.015742  ...  38.311287 -91.574426   \n",
       "72402  835047.0       Hail  35.015742  ...  38.311287 -91.574426   \n",
       "\n",
       "                                                    proj size_x  size_y  \\\n",
       "19299  +proj=laea +lat_0=38 +lon_0=-98 +units=m +a=63...    384     384   \n",
       "22412  +proj=laea +lat_0=38 +lon_0=-98 +units=m +a=63...    192     192   \n",
       "29236  +proj=laea +lat_0=38 +lon_0=-98 +units=m +a=63...    192     192   \n",
       "41182  +proj=laea +lat_0=38 +lon_0=-98 +units=m +a=63...    768     768   \n",
       "72402  +proj=laea +lat_0=38 +lon_0=-98 +units=m +a=63...     48      48   \n",
       "\n",
       "       height_m   width_m   data_min       data_max  pct_missing  \n",
       "19299  384000.0  384000.0   0.000000     254.000000     0.290709  \n",
       "22412  384000.0  384000.0 -72.195297      30.619873     0.000000  \n",
       "29236  384000.0  384000.0 -72.988350     -21.160448     0.000000  \n",
       "41182  384000.0  384000.0   0.017251       1.159615     0.000000  \n",
       "72402  384000.0  384000.0   0.000000  328332.000000     0.000000  \n",
       "\n",
       "[5 rows x 21 columns]"
      ]
     },
     "execution_count": 59,
     "metadata": {},
     "output_type": "execute_result"
    }
   ],
   "source": [
    "catlog[catlog['event_id'] == 835047]"
   ]
  },
  {
   "cell_type": "code",
   "execution_count": null,
   "id": "a80cd7f0",
   "metadata": {},
   "outputs": [],
   "source": [
    "ir107/2019/SEVIR_IR107_STORMEVENTS_2019_0101_0...\t"
   ]
  },
  {
   "cell_type": "code",
   "execution_count": null,
   "id": "96ca3795",
   "metadata": {},
   "outputs": [],
   "source": [
    "ir107/2019/SEVIR_IR107_STORMEVENTS_2019_0101_0630.h5\n",
    "vil/2019/SEVIR_VIL_STORMEVENTS_2019_0101_0630.h5\n",
    "ir069/2019/SEVIR_IR069_STORMEVENTS_2019_0101_0630.h5\n",
    "vis/2019/SEVIR_VIS_STORMEVENTS_2019_0601_0630.h5\n",
    "ght/2019/SEVIR_LGHT_ALLEVENTS_2019_0601_0701.h5"
   ]
  },
  {
   "cell_type": "code",
   "execution_count": null,
   "id": "e1526413",
   "metadata": {},
   "outputs": [],
   "source": [
    "aws s3 cp --no-sign-request s3://sevir/data/ir107/2019/SEVIR_IR107_STORMEVENTS_2019_0101_0630.h5 SEVIR_IR107_STORMEVENTS_2019_0101_0630.h5\n",
    "aws s3 cp --no-sign-request s3://sevir/data/vil/2019/SEVIR_VIL_STORMEVENTS_2019_0101_0630.h5 vil/2019/SEVIR_VIL_STORMEVENTS_2019_0101_0630.h5\n",
    "\n",
    "aws s3 cp --no-sign-request s3://sevir/data/vis/2019/SEVIR_VIS_STORMEVENTS_2019_0601_0630.h5 SEVIR_VIS_STORMEVENTS_2019_0601_0630.h5\n",
    "\n",
    "    "
   ]
  }
 ],
 "metadata": {
  "kernelspec": {
   "display_name": "Python 3.8.8 64-bit ('base': conda)",
   "language": "python",
   "name": "python388jvsc74a57bd0862565ed761fef69c13c358536270023be20fe86f4b6648eb3a25208bbc233f0"
  },
  "language_info": {
   "codemirror_mode": {
    "name": "ipython",
    "version": 3
   },
   "file_extension": ".py",
   "mimetype": "text/x-python",
   "name": "python",
   "nbconvert_exporter": "python",
   "pygments_lexer": "ipython3",
   "version": "3.8.8"
  }
 },
 "nbformat": 4,
 "nbformat_minor": 5
}
